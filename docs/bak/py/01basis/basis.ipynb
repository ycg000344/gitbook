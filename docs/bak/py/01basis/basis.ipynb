{
 "cells": [
  {
   "cell_type": "code",
   "execution_count": 1,
   "metadata": {},
   "outputs": [],
   "source": [
    "# pip install jupyterlab\n",
    "# cd /wordspace/project/path\n",
    "# jupyter lab"
   ]
  },
  {
   "cell_type": "code",
   "execution_count": 2,
   "metadata": {},
   "outputs": [],
   "source": [
    "# 列表和元组都是有序的，可以存储任意数据类型的集合，区别：\n",
    "# 1. 列表是动态的，长度是可变的，可以随意的增加、删除或改变元素。列表的存储空间略大于元组，性能略差与元组。\n",
    "# 2. 元组是静态的，长度大小固定，不可以对元素进行增加、删除或者改变操作。元组想到对于列表更轻量级，性能稍优。\n",
    "# 思考题\n",
    "# 创建空列表, A、B两种方式的效率区别\n",
    "# A\n",
    "empty_list_a = list()\n",
    "# B\n",
    "empty_list_a = []\n",
    "\n",
    "# 区别：\n",
    "# A: list() 是一个 function call, python的function call会创建stack，并进行一系列的参数校验检查\n",
    "# B: [] 是一个内置的 C函数，可以直接调用，效率高"
   ]
  },
  {
   "cell_type": "code",
   "execution_count": 3,
   "metadata": {},
   "outputs": [],
   "source": [
    "# dict 在 python 3.7+是有序的数据结构，而集合 set是无序的，其内部的哈希表存储结构，保证了其查找、插入、删除操作的高效性。\n",
    "# 所以，字段和集合通常运用在对元素的高效查找、去重等场景。"
   ]
  },
  {
   "cell_type": "code",
   "execution_count": 4,
   "metadata": {},
   "outputs": [],
   "source": [
    "# 字符串\n",
    "# python中字符串是不可变的，（新版本的python（2.5+）中拼接操作 ‘+=’ 是个例外）。\n",
    "# 因此，随意改变字符串字符的值，是不被允许的。\n",
    "# 思考题， python2.5+，哪个操作更优\n",
    "# A\n",
    "s = ''\n",
    "for n in range(0,10000):\n",
    "    s += str(n)\n",
    "# B\n",
    "l = []\n",
    "for n in range(0, 10000):\n",
    "    l.append(str(n))\n",
    "s = ''.join(l)\n",
    "# 如果字符串拼接的次数较少，比如 range(100), A 更好，否则 B较好\n",
    "# 补充\n",
    "s = ''.join(map(str,range(0,10000)))"
   ]
  },
  {
   "cell_type": "code",
   "execution_count": 8,
   "metadata": {},
   "outputs": [
    {
     "data": {
      "text/plain": [
       "[25, 23, 21, 19, 17, 15, 13, 11, 9, 7, 5, 7, 9, 11, 13, 15, 17, 19, 21, 23]"
      ]
     },
     "execution_count": 8,
     "metadata": {},
     "output_type": "execute_result"
    }
   ],
   "source": [
    "# dict 本身只有 key 是可迭代的，如果要遍历它的值或者键值，就需要使用内置函数 values() 、 items()\n",
    "# expression1 if condition else expression2 for item in iterable\n",
    "# expression for item in iterable if condition\n",
    "# y = 2 * |x| + 5\n",
    "y = [2 * v + 5 if v > 0 else 2 * -v + 5 for v in range(-10,10)]\n",
    "y"
   ]
  },
  {
   "cell_type": "code",
   "execution_count": 11,
   "metadata": {},
   "outputs": [
    {
     "data": {
      "text/plain": [
       "['Today', 'is', 'Sunday']"
      ]
     },
     "execution_count": 11,
     "metadata": {},
     "output_type": "execute_result"
    }
   ],
   "source": [
    "text = ' Today,  is , Sunday'\n",
    "text_list = [s.strip() for s in text.split(',') if len(s.strip()) > 0]\n",
    "text_list"
   ]
  },
  {
   "cell_type": "code",
   "execution_count": 13,
   "metadata": {},
   "outputs": [],
   "source": [
    "z = [(x,y) for x in range(0,10) for y in range(0,10) if x != y]\n"
   ]
  },
  {
   "cell_type": "code",
   "execution_count": 17,
   "metadata": {},
   "outputs": [
    {
     "data": {
      "text/plain": [
       "[{'name': 'jason', 'job': '2001-10-10', 'gender': 'male'},\n",
       " {'name': 'mike', 'job': '1990-10-10', 'gender': 'male'},\n",
       " {'name': 'nancy', 'job': '2010-10-10', 'gender': 'female'}]"
      ]
     },
     "execution_count": 17,
     "metadata": {},
     "output_type": "execute_result"
    }
   ],
   "source": [
    "attr = ['name','job','gender']\n",
    "values = [\n",
    "    ['jason','2001-10-10','male'],\n",
    "    ['mike','1990-10-10','male'],\n",
    "    ['nancy','2010-10-10','female']\n",
    "]\n",
    "[dict(zip(attr,v)) for v in values]"
   ]
  },
  {
   "cell_type": "code",
   "execution_count": 21,
   "metadata": {},
   "outputs": [],
   "source": [
    "d = {'mike':10, 'lucy':2, 'ben':3}\n",
    "s1 = dict(sorted(d.items(),key=lambda x: x[0]))\n",
    "s2 = dict(sorted(d.items(),key=lambda x: x[1]))"
   ]
  },
  {
   "cell_type": "code",
   "execution_count": 22,
   "metadata": {},
   "outputs": [
    {
     "data": {
      "text/plain": [
       "{'ben': 3, 'lucy': 2, 'mike': 10}"
      ]
     },
     "execution_count": 22,
     "metadata": {},
     "output_type": "execute_result"
    }
   ],
   "source": [
    "s1"
   ]
  },
  {
   "cell_type": "code",
   "execution_count": 23,
   "metadata": {},
   "outputs": [
    {
     "data": {
      "text/plain": [
       "{'lucy': 2, 'ben': 3, 'mike': 10}"
      ]
     },
     "execution_count": 23,
     "metadata": {},
     "output_type": "execute_result"
    }
   ],
   "source": [
    "s2"
   ]
  },
  {
   "cell_type": "code",
   "execution_count": null,
   "metadata": {},
   "outputs": [],
   "source": []
  }
 ],
 "metadata": {
  "kernelspec": {
   "display_name": "Python 3",
   "language": "python",
   "name": "python3"
  },
  "language_info": {
   "codemirror_mode": {
    "name": "ipython",
    "version": 3
   },
   "file_extension": ".py",
   "mimetype": "text/x-python",
   "name": "python",
   "nbconvert_exporter": "python",
   "pygments_lexer": "ipython3",
   "version": "3.7.4"
  }
 },
 "nbformat": 4,
 "nbformat_minor": 4
}
